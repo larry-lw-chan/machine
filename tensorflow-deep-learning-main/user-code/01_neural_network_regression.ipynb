{
 "cells": [
  {
   "cell_type": "markdown",
   "metadata": {},
   "source": [
    "# Introduction to regression with Neural Networks in Tensorflow"
   ]
  },
  {
   "cell_type": "code",
   "execution_count": 1,
   "metadata": {},
   "outputs": [
    {
     "name": "stderr",
     "output_type": "stream",
     "text": [
      "2024-05-22 04:47:01.671829: I tensorflow/core/platform/cpu_feature_guard.cc:193] This TensorFlow binary is optimized with oneAPI Deep Neural Network Library (oneDNN) to use the following CPU instructions in performance-critical operations:  AVX2 FMA\n",
      "To enable them in other operations, rebuild TensorFlow with the appropriate compiler flags.\n"
     ]
    },
    {
     "name": "stdout",
     "output_type": "stream",
     "text": [
      "2.10.0\n"
     ]
    }
   ],
   "source": [
    "# Import Tensorflow\n",
    "\n",
    "import tensorflow as tf\n",
    "print(tf.__version__)"
   ]
  },
  {
   "cell_type": "code",
   "execution_count": 47,
   "metadata": {},
   "outputs": [
    {
     "data": {
      "text/plain": [
       "<matplotlib.collections.PathCollection at 0x7f7fe89b60a0>"
      ]
     },
     "execution_count": 47,
     "metadata": {},
     "output_type": "execute_result"
    },
    {
     "data": {
      "image/png": "[encoded data removed]",
      "text/plain": [
       "<Figure size 640x480 with 1 Axes>"
      ]
     },
     "metadata": {},
     "output_type": "display_data"
    }
   ],
   "source": [
    "# Create data to view and fit\n",
    "\n",
    "import numpy as np\n",
    "import matplotlib.pyplot as plt\n",
    "\n",
    "# Create features\n",
    "X = np.array([-7.0, -4.0, -1.0, 2.0, 5.0, 8.0, 11.0, 14.0])\n",
    "\n",
    "# Create labels\n",
    "y = np.array([3.0, 6.0, 9.0, 12.0, 15.0, 18.0, 21.0, 24.0])\n",
    "\n",
    "# Visualize\n",
    "plt.scatter(X, y)"
   ]
  },
  {
   "cell_type": "code",
   "execution_count": 48,
   "metadata": {},
   "outputs": [
    {
     "data": {
      "text/plain": [
       "array([ True,  True,  True,  True,  True,  True,  True,  True])"
      ]
     },
     "execution_count": 48,
     "metadata": {},
     "output_type": "execute_result"
    }
   ],
   "source": [
    "# Here's the actual formula\n",
    "y == X + 10"
   ]
  },
  {
   "cell_type": "code",
   "execution_count": 49,
   "metadata": {},
   "outputs": [
    {
     "data": {
      "text/plain": [
       "(-7.0, 3.0)"
      ]
     },
     "execution_count": 49,
     "metadata": {},
     "output_type": "execute_result"
    }
   ],
   "source": [
    "# Input and Output Shapes (Is a scalar - Rank 0 tensor) - 1 X value to predict 1 Y value\n",
    "X[0], y[0]"
   ]
  },
  {
   "cell_type": "code",
   "execution_count": 50,
   "metadata": {},
   "outputs": [
    {
     "data": {
      "text/plain": [
       "((), ())"
      ]
     },
     "execution_count": 50,
     "metadata": {},
     "output_type": "execute_result"
    }
   ],
   "source": [
    "input_shape = X[0].shape\n",
    "output_shape = y[0].shape\n",
    "input_shape, output_shape"
   ]
  },
  {
   "cell_type": "code",
   "execution_count": 51,
   "metadata": {},
   "outputs": [
    {
     "data": {
      "text/plain": [
       "0"
      ]
     },
     "execution_count": 51,
     "metadata": {},
     "output_type": "execute_result"
    }
   ],
   "source": [
    "X[0].ndim"
   ]
  },
  {
   "cell_type": "code",
   "execution_count": 52,
   "metadata": {},
   "outputs": [
    {
     "data": {
      "text/plain": [
       "(<tf.Tensor: shape=(8,), dtype=float32, numpy=array([-7., -4., -1.,  2.,  5.,  8., 11., 14.], dtype=float32)>,\n",
       " <tf.Tensor: shape=(8,), dtype=float32, numpy=array([ 3.,  6.,  9., 12., 15., 18., 21., 24.], dtype=float32)>)"
      ]
     },
     "execution_count": 52,
     "metadata": {},
     "output_type": "execute_result"
    }
   ],
   "source": [
    "# Turn NP array into tensors\n",
    "X = tf.cast(tf.constant(X), dtype=tf.float32)\n",
    "y = tf.cast(tf.constant(y), dtype=tf.float32)\n",
    "X, y"
   ]
  },
  {
   "cell_type": "code",
   "execution_count": 90,
   "metadata": {},
   "outputs": [],
   "source": [
    "# Set random seed\n",
    "tf.random.set_seed(42)\n",
    "\n",
    "# 1. Create a model using the Sequential API\n",
    "model = tf.keras.Sequential([\n",
    "    tf.keras.layers.Dense(1)\n",
    "])\n",
    "\n",
    "# Compile model\n",
    "model.compile(\n",
    "    loss=tf.keras.losses.mae,\n",
    "    optimizer=tf.keras.optimizers.SGD(), \n",
    "    metrics=[\"mae\"]\n",
    ")"
   ]
  },
  {
   "cell_type": "code",
   "execution_count": 91,
   "metadata": {},
   "outputs": [
    {
     "name": "stdout",
     "output_type": "stream",
     "text": [
      "Epoch 1/5\n",
      "1/1 [==============================] - 0s 250ms/step - loss: 7.9834 - mae: 7.9834\n",
      "Epoch 2/5\n",
      "1/1 [==============================] - 0s 3ms/step - loss: 7.8509 - mae: 7.8509\n",
      "Epoch 3/5\n",
      "1/1 [==============================] - 0s 3ms/step - loss: 7.7184 - mae: 7.7184\n",
      "Epoch 4/5\n",
      "1/1 [==============================] - 0s 4ms/step - loss: 7.5859 - mae: 7.5859\n",
      "Epoch 5/5\n",
      "1/1 [==============================] - 0s 3ms/step - loss: 7.4700 - mae: 7.4700\n"
     ]
    },
    {
     "data": {
      "text/plain": [
       "<keras.callbacks.History at 0x7f7fea3f8cd0>"
      ]
     },
     "execution_count": 91,
     "metadata": {},
     "output_type": "execute_result"
    }
   ],
   "source": [
    "# Fit data onto model\n",
    "model.fit(tf.expand_dims(X, axis=-1), y, epochs=5)"
   ]
  },
  {
   "cell_type": "code",
   "execution_count": 92,
   "metadata": {},
   "outputs": [
    {
     "data": {
      "text/plain": [
       "(<tf.Tensor: shape=(8,), dtype=float32, numpy=array([-7., -4., -1.,  2.,  5.,  8., 11., 14.], dtype=float32)>,\n",
       " <tf.Tensor: shape=(8,), dtype=float32, numpy=array([ 3.,  6.,  9., 12., 15., 18., 21., 24.], dtype=float32)>)"
      ]
     },
     "execution_count": 92,
     "metadata": {},
     "output_type": "execute_result"
    }
   ],
   "source": [
    "# Check out X and y\n",
    "X, y"
   ]
  },
  {
   "cell_type": "code",
   "execution_count": 93,
   "metadata": {},
   "outputs": [
    {
     "name": "stdout",
     "output_type": "stream",
     "text": [
      "1/1 [==============================] - 0s 122ms/step\n"
     ]
    }
   ],
   "source": [
    "# Make a prediction\n",
    "y_pred = model.predict([17.0])"
   ]
  },
  {
   "cell_type": "code",
   "execution_count": 94,
   "metadata": {},
   "outputs": [],
   "source": [
    "# Clear session for next example\n",
    "tf.keras.backend.clear_session()"
   ]
  },
  {
   "cell_type": "markdown",
   "metadata": {},
   "source": [
    "## Let's improve model...\n",
    "\n",
    "1) **Creating a model** - we can add more layers, increase number of hidden layers, change activation function of each models.  Start with small model and make into larger model\n",
    "\n",
    "2) **Compiling a model** - here we might change optimization of a function or **learning rate** of the optimization function\n",
    "\n",
    "3) **Fitting a model** - here we might fit a model for more **epoch** (leaving it training for longer), or on more data (give the model more data to learn from)."
   ]
  },
  {
   "cell_type": "code",
   "execution_count": 99,
   "metadata": {},
   "outputs": [],
   "source": [
    "# Set random seed\n",
    "tf.random.set_seed(42)\n",
    "\n",
    "# Create Model\n",
    "model = tf.keras.Sequential([\n",
    "    tf.keras.layers.Dense(1)\n",
    "])\n",
    "\n",
    "# Compile model\n",
    "model.compile(\n",
    "    loss=tf.keras.losses.mae,\n",
    "    optimizer=tf.keras.optimizers.SGD(),\n",
    "    metrics=[\"mae\"]\n",
    ")"
   ]
  },
  {
   "cell_type": "code",
   "execution_count": 100,
   "metadata": {},
   "outputs": [
    {
     "name": "stdout",
     "output_type": "stream",
     "text": [
      "Epoch 1/100\n",
      "1/1 [==============================] - 0s 267ms/step - loss: 13.9017 - mae: 13.9017\n",
      "Epoch 2/100\n",
      "1/1 [==============================] - 0s 3ms/step - loss: 13.7692 - mae: 13.7692\n",
      "Epoch 3/100\n",
      "1/1 [==============================] - 0s 3ms/step - loss: 13.6367 - mae: 13.6367\n",
      "Epoch 4/100\n",
      "1/1 [==============================] - 0s 4ms/step - loss: 13.5042 - mae: 13.5042\n",
      "Epoch 5/100\n",
      "1/1 [==============================] - 0s 3ms/step - loss: 13.3717 - mae: 13.3717\n",
      "Epoch 6/100\n",
      "1/1 [==============================] - 0s 3ms/step - loss: 13.2392 - mae: 13.2392\n",
      "Epoch 7/100\n",
      "1/1 [==============================] - 0s 2ms/step - loss: 13.1067 - mae: 13.1067\n",
      "Epoch 8/100\n",
      "1/1 [==============================] - 0s 12ms/step - loss: 12.9742 - mae: 12.9742\n",
      "Epoch 9/100\n",
      "1/1 [==============================] - 0s 11ms/step - loss: 12.8417 - mae: 12.8417\n",
      "Epoch 10/100\n",
      "1/1 [==============================] - 0s 4ms/step - loss: 12.7092 - mae: 12.7092\n",
      "Epoch 11/100\n",
      "1/1 [==============================] - 0s 4ms/step - loss: 12.5767 - mae: 12.5767\n",
      "Epoch 12/100\n",
      "1/1 [==============================] - 0s 3ms/step - loss: 12.4442 - mae: 12.4442\n",
      "Epoch 13/100\n",
      "1/1 [==============================] - 0s 5ms/step - loss: 12.3117 - mae: 12.3117\n",
      "Epoch 14/100\n",
      "1/1 [==============================] - 0s 3ms/step - loss: 12.1792 - mae: 12.1792\n",
      "Epoch 15/100\n",
      "1/1 [==============================] - 0s 2ms/step - loss: 12.0467 - mae: 12.0467\n",
      "Epoch 16/100\n",
      "1/1 [==============================] - 0s 3ms/step - loss: 11.9142 - mae: 11.9142\n",
      "Epoch 17/100\n",
      "1/1 [==============================] - 0s 4ms/step - loss: 11.7817 - mae: 11.7817\n",
      "Epoch 18/100\n",
      "1/1 [==============================] - 0s 3ms/step - loss: 11.6492 - mae: 11.6492\n",
      "Epoch 19/100\n",
      "1/1 [==============================] - 0s 6ms/step - loss: 11.5167 - mae: 11.5167\n",
      "Epoch 20/100\n",
      "1/1 [==============================] - 0s 3ms/step - loss: 11.3842 - mae: 11.3842\n",
      "Epoch 21/100\n",
      "1/1 [==============================] - 0s 3ms/step - loss: 11.2517 - mae: 11.2517\n",
      "Epoch 22/100\n",
      "1/1 [==============================] - 0s 3ms/step - loss: 11.1192 - mae: 11.1192\n",
      "Epoch 23/100\n",
      "1/1 [==============================] - 0s 3ms/step - loss: 10.9867 - mae: 10.9867\n",
      "Epoch 24/100\n",
      "1/1 [==============================] - 0s 3ms/step - loss: 10.8542 - mae: 10.8542\n",
      "Epoch 25/100\n",
      "1/1 [==============================] - 0s 4ms/step - loss: 10.7217 - mae: 10.7217\n",
      "Epoch 26/100\n",
      "1/1 [==============================] - 0s 3ms/step - loss: 10.5892 - mae: 10.5892\n",
      "Epoch 27/100\n",
      "1/1 [==============================] - 0s 3ms/step - loss: 10.4567 - mae: 10.4567\n",
      "Epoch 28/100\n",
      "1/1 [==============================] - 0s 3ms/step - loss: 10.3242 - mae: 10.3242\n",
      "Epoch 29/100\n",
      "1/1 [==============================] - 0s 3ms/step - loss: 10.1917 - mae: 10.1917\n",
      "Epoch 30/100\n",
      "1/1 [==============================] - 0s 4ms/step - loss: 10.0592 - mae: 10.0592\n",
      "Epoch 31/100\n",
      "1/1 [==============================] - 0s 6ms/step - loss: 9.9267 - mae: 9.9267\n",
      "Epoch 32/100\n",
      "1/1 [==============================] - 0s 5ms/step - loss: 9.7942 - mae: 9.7942\n",
      "Epoch 33/100\n",
      "1/1 [==============================] - 0s 7ms/step - loss: 9.6617 - mae: 9.6617\n",
      "Epoch 34/100\n",
      "1/1 [==============================] - 0s 4ms/step - loss: 9.5292 - mae: 9.5292\n",
      "Epoch 35/100\n",
      "1/1 [==============================] - 0s 3ms/step - loss: 9.3967 - mae: 9.3967\n",
      "Epoch 36/100\n",
      "1/1 [==============================] - 0s 4ms/step - loss: 9.2642 - mae: 9.2642\n",
      "Epoch 37/100\n",
      "1/1 [==============================] - 0s 7ms/step - loss: 9.1317 - mae: 9.1317\n",
      "Epoch 38/100\n",
      "1/1 [==============================] - 0s 10ms/step - loss: 8.9992 - mae: 8.9992\n",
      "Epoch 39/100\n",
      "1/1 [==============================] - 0s 6ms/step - loss: 8.8667 - mae: 8.8667\n",
      "Epoch 40/100\n",
      "1/1 [==============================] - 0s 6ms/step - loss: 8.7342 - mae: 8.7342\n",
      "Epoch 41/100\n",
      "1/1 [==============================] - 0s 5ms/step - loss: 8.6017 - mae: 8.6017\n",
      "Epoch 42/100\n",
      "1/1 [==============================] - 0s 5ms/step - loss: 8.4692 - mae: 8.4692\n",
      "Epoch 43/100\n",
      "1/1 [==============================] - 0s 5ms/step - loss: 8.3367 - mae: 8.3367\n",
      "Epoch 44/100\n",
      "1/1 [==============================] - 0s 3ms/step - loss: 8.2042 - mae: 8.2042\n",
      "Epoch 45/100\n",
      "1/1 [==============================] - 0s 4ms/step - loss: 8.0717 - mae: 8.0717\n",
      "Epoch 46/100\n",
      "1/1 [==============================] - 0s 5ms/step - loss: 7.9392 - mae: 7.9392\n",
      "Epoch 47/100\n",
      "1/1 [==============================] - 0s 4ms/step - loss: 7.8067 - mae: 7.8067\n",
      "Epoch 48/100\n",
      "1/1 [==============================] - 0s 4ms/step - loss: 7.6742 - mae: 7.6742\n",
      "Epoch 49/100\n",
      "1/1 [==============================] - 0s 3ms/step - loss: 7.5417 - mae: 7.5417\n",
      "Epoch 50/100\n",
      "1/1 [==============================] - 0s 4ms/step - loss: 7.4092 - mae: 7.4092\n",
      "Epoch 51/100\n",
      "1/1 [==============================] - 0s 3ms/step - loss: 7.2767 - mae: 7.2767\n",
      "Epoch 52/100\n",
      "1/1 [==============================] - 0s 6ms/step - loss: 7.1442 - mae: 7.1442\n",
      "Epoch 53/100\n",
      "1/1 [==============================] - 0s 3ms/step - loss: 7.1100 - mae: 7.1100\n",
      "Epoch 54/100\n",
      "1/1 [==============================] - 0s 3ms/step - loss: 7.1044 - mae: 7.1044\n",
      "Epoch 55/100\n",
      "1/1 [==============================] - 0s 5ms/step - loss: 7.0988 - mae: 7.0988\n",
      "Epoch 56/100\n",
      "1/1 [==============================] - 0s 3ms/step - loss: 7.0931 - mae: 7.0931\n",
      "Epoch 57/100\n",
      "1/1 [==============================] - 0s 2ms/step - loss: 7.0875 - mae: 7.0875\n",
      "Epoch 58/100\n",
      "1/1 [==============================] - 0s 5ms/step - loss: 7.0819 - mae: 7.0819\n",
      "Epoch 59/100\n",
      "1/1 [==============================] - 0s 3ms/step - loss: 7.0763 - mae: 7.0763\n",
      "Epoch 60/100\n",
      "1/1 [==============================] - 0s 3ms/step - loss: 7.0706 - mae: 7.0706\n",
      "Epoch 61/100\n",
      "1/1 [==============================] - 0s 5ms/step - loss: 7.0650 - mae: 7.0650\n",
      "Epoch 62/100\n",
      "1/1 [==============================] - 0s 3ms/step - loss: 7.0594 - mae: 7.0594\n",
      "Epoch 63/100\n",
      "1/1 [==============================] - 0s 6ms/step - loss: 7.0538 - mae: 7.0538\n",
      "Epoch 64/100\n",
      "1/1 [==============================] - 0s 4ms/step - loss: 7.0481 - mae: 7.0481\n",
      "Epoch 65/100\n",
      "1/1 [==============================] - 0s 7ms/step - loss: 7.0425 - mae: 7.0425\n",
      "Epoch 66/100\n",
      "1/1 [==============================] - 0s 3ms/step - loss: 7.0369 - mae: 7.0369\n",
      "Epoch 67/100\n",
      "1/1 [==============================] - 0s 7ms/step - loss: 7.0312 - mae: 7.0312\n",
      "Epoch 68/100\n",
      "1/1 [==============================] - 0s 7ms/step - loss: 7.0256 - mae: 7.0256\n",
      "Epoch 69/100\n",
      "1/1 [==============================] - 0s 7ms/step - loss: 7.0200 - mae: 7.0200\n",
      "Epoch 70/100\n",
      "1/1 [==============================] - 0s 5ms/step - loss: 7.0144 - mae: 7.0144\n",
      "Epoch 71/100\n",
      "1/1 [==============================] - 0s 5ms/step - loss: 7.0088 - mae: 7.0088\n",
      "Epoch 72/100\n",
      "1/1 [==============================] - 0s 5ms/step - loss: 7.0031 - mae: 7.0031\n",
      "Epoch 73/100\n",
      "1/1 [==============================] - 0s 5ms/step - loss: 6.9975 - mae: 6.9975\n",
      "Epoch 74/100\n",
      "1/1 [==============================] - 0s 8ms/step - loss: 6.9919 - mae: 6.9919\n",
      "Epoch 75/100\n",
      "1/1 [==============================] - 0s 5ms/step - loss: 6.9863 - mae: 6.9863\n",
      "Epoch 76/100\n",
      "1/1 [==============================] - 0s 5ms/step - loss: 6.9806 - mae: 6.9806\n",
      "Epoch 77/100\n",
      "1/1 [==============================] - 0s 4ms/step - loss: 6.9750 - mae: 6.9750\n",
      "Epoch 78/100\n",
      "1/1 [==============================] - 0s 5ms/step - loss: 6.9694 - mae: 6.9694\n",
      "Epoch 79/100\n",
      "1/1 [==============================] - 0s 3ms/step - loss: 6.9638 - mae: 6.9638\n",
      "Epoch 80/100\n",
      "1/1 [==============================] - 0s 6ms/step - loss: 6.9581 - mae: 6.9581\n",
      "Epoch 81/100\n",
      "1/1 [==============================] - 0s 4ms/step - loss: 6.9525 - mae: 6.9525\n",
      "Epoch 82/100\n",
      "1/1 [==============================] - 0s 5ms/step - loss: 6.9469 - mae: 6.9469\n",
      "Epoch 83/100\n",
      "1/1 [==============================] - 0s 3ms/step - loss: 6.9413 - mae: 6.9413\n",
      "Epoch 84/100\n",
      "1/1 [==============================] - 0s 9ms/step - loss: 6.9356 - mae: 6.9356\n",
      "Epoch 85/100\n",
      "1/1 [==============================] - 0s 3ms/step - loss: 6.9300 - mae: 6.9300\n",
      "Epoch 86/100\n",
      "1/1 [==============================] - 0s 8ms/step - loss: 6.9244 - mae: 6.9244\n",
      "Epoch 87/100\n",
      "1/1 [==============================] - 0s 3ms/step - loss: 6.9188 - mae: 6.9188\n",
      "Epoch 88/100\n",
      "1/1 [==============================] - 0s 4ms/step - loss: 6.9131 - mae: 6.9131\n",
      "Epoch 89/100\n",
      "1/1 [==============================] - 0s 3ms/step - loss: 6.9075 - mae: 6.9075\n",
      "Epoch 90/100\n",
      "1/1 [==============================] - 0s 8ms/step - loss: 6.9019 - mae: 6.9019\n",
      "Epoch 91/100\n",
      "1/1 [==============================] - 0s 3ms/step - loss: 6.8963 - mae: 6.8963\n",
      "Epoch 92/100\n",
      "1/1 [==============================] - 0s 10ms/step - loss: 6.8906 - mae: 6.8906\n",
      "Epoch 93/100\n",
      "1/1 [==============================] - 0s 3ms/step - loss: 6.8850 - mae: 6.8850\n",
      "Epoch 94/100\n",
      "1/1 [==============================] - 0s 6ms/step - loss: 6.8794 - mae: 6.8794\n",
      "Epoch 95/100\n",
      "1/1 [==============================] - 0s 7ms/step - loss: 6.8738 - mae: 6.8738\n",
      "Epoch 96/100\n",
      "1/1 [==============================] - 0s 3ms/step - loss: 6.8681 - mae: 6.8681\n",
      "Epoch 97/100\n",
      "1/1 [==============================] - 0s 4ms/step - loss: 6.8625 - mae: 6.8625\n",
      "Epoch 98/100\n",
      "1/1 [==============================] - 0s 3ms/step - loss: 6.8569 - mae: 6.8569\n",
      "Epoch 99/100\n",
      "1/1 [==============================] - 0s 3ms/step - loss: 6.8513 - mae: 6.8513\n",
      "Epoch 100/100\n",
      "1/1 [==============================] - 0s 5ms/step - loss: 6.8456 - mae: 6.8456\n"
     ]
    },
    {
     "data": {
      "text/plain": [
       "<keras.callbacks.History at 0x7f7feac11fa0>"
      ]
     },
     "execution_count": 100,
     "metadata": {},
     "output_type": "execute_result"
    }
   ],
   "source": [
    "# Fit model (This time we train longer)\n",
    "model.fit(tf.expand_dims(X, axis=-1), y, epochs=100)"
   ]
  },
  {
   "cell_type": "code",
   "execution_count": 107,
   "metadata": {},
   "outputs": [
    {
     "name": "stdout",
     "output_type": "stream",
     "text": [
      "1/1 [==============================] - 0s 53ms/step\n"
     ]
    },
    {
     "data": {
      "text/plain": [
       "array([[26.8855]], dtype=float32)"
      ]
     },
     "execution_count": 107,
     "metadata": {},
     "output_type": "execute_result"
    }
   ],
   "source": [
    "# Predict model\n",
    "y_pred = model.predict([17.0])\n",
    "y_pred"
   ]
  },
  {
   "cell_type": "code",
   "execution_count": 110,
   "metadata": {},
   "outputs": [],
   "source": [
    "# Clear session for next example\n",
    "tf.keras.backend.clear_session()"
   ]
  },
  {
   "cell_type": "code",
   "execution_count": 104,
   "metadata": {},
   "outputs": [
    {
     "name": "stdout",
     "output_type": "stream",
     "text": [
      "Epoch 1/100\n"
     ]
    },
    {
     "name": "stderr",
     "output_type": "stream",
     "text": [
      "/usr/local/Caskroom/miniconda/base/envs/tensor/lib/python3.9/site-packages/keras/optimizers/optimizer_v2/adam.py:114: UserWarning: The `lr` argument is deprecated, use `learning_rate` instead.\n",
      "  super().__init__(name, **kwargs)\n"
     ]
    },
    {
     "name": "stdout",
     "output_type": "stream",
     "text": [
      "1/1 [==============================] - 0s 430ms/step - loss: 12.1407 - mae: 12.1407\n",
      "Epoch 2/100\n",
      "1/1 [==============================] - 0s 3ms/step - loss: 11.3754 - mae: 11.3754\n",
      "Epoch 3/100\n",
      "1/1 [==============================] - 0s 3ms/step - loss: 10.6059 - mae: 10.6059\n",
      "Epoch 4/100\n",
      "1/1 [==============================] - 0s 6ms/step - loss: 9.8303 - mae: 9.8303\n",
      "Epoch 5/100\n",
      "1/1 [==============================] - 0s 4ms/step - loss: 9.0465 - mae: 9.0465\n",
      "Epoch 6/100\n",
      "1/1 [==============================] - 0s 3ms/step - loss: 8.2522 - mae: 8.2522\n",
      "Epoch 7/100\n",
      "1/1 [==============================] - 0s 4ms/step - loss: 7.4451 - mae: 7.4451\n",
      "Epoch 8/100\n",
      "1/1 [==============================] - 0s 3ms/step - loss: 6.9102 - mae: 6.9102\n",
      "Epoch 9/100\n",
      "1/1 [==============================] - 0s 3ms/step - loss: 7.0768 - mae: 7.0768\n",
      "Epoch 10/100\n",
      "1/1 [==============================] - 0s 3ms/step - loss: 7.3548 - mae: 7.3548\n",
      "Epoch 11/100\n",
      "1/1 [==============================] - 0s 4ms/step - loss: 7.5229 - mae: 7.5229\n",
      "Epoch 12/100\n",
      "1/1 [==============================] - 0s 3ms/step - loss: 7.5574 - mae: 7.5574\n",
      "Epoch 13/100\n",
      "1/1 [==============================] - 0s 3ms/step - loss: 7.3865 - mae: 7.3865\n",
      "Epoch 14/100\n",
      "1/1 [==============================] - 0s 3ms/step - loss: 7.1468 - mae: 7.1468\n",
      "Epoch 15/100\n",
      "1/1 [==============================] - 0s 3ms/step - loss: 6.9025 - mae: 6.9025\n",
      "Epoch 16/100\n",
      "1/1 [==============================] - 0s 3ms/step - loss: 6.6325 - mae: 6.6325\n",
      "Epoch 17/100\n",
      "1/1 [==============================] - 0s 4ms/step - loss: 6.3424 - mae: 6.3424\n",
      "Epoch 18/100\n",
      "1/1 [==============================] - 0s 3ms/step - loss: 6.2414 - mae: 6.2414\n",
      "Epoch 19/100\n",
      "1/1 [==============================] - 0s 4ms/step - loss: 6.1877 - mae: 6.1877\n",
      "Epoch 20/100\n",
      "1/1 [==============================] - 0s 5ms/step - loss: 6.3644 - mae: 6.3644\n",
      "Epoch 21/100\n",
      "1/1 [==============================] - 0s 3ms/step - loss: 6.4294 - mae: 6.4294\n",
      "Epoch 22/100\n",
      "1/1 [==============================] - 0s 5ms/step - loss: 6.3844 - mae: 6.3844\n",
      "Epoch 23/100\n",
      "1/1 [==============================] - 0s 3ms/step - loss: 6.2435 - mae: 6.2435\n",
      "Epoch 24/100\n",
      "1/1 [==============================] - 0s 3ms/step - loss: 6.0170 - mae: 6.0170\n",
      "Epoch 25/100\n",
      "1/1 [==============================] - 0s 4ms/step - loss: 5.7127 - mae: 5.7127\n",
      "Epoch 26/100\n",
      "1/1 [==============================] - 0s 3ms/step - loss: 5.5870 - mae: 5.5870\n",
      "Epoch 27/100\n",
      "1/1 [==============================] - 0s 4ms/step - loss: 5.4760 - mae: 5.4760\n",
      "Epoch 28/100\n",
      "1/1 [==============================] - 0s 4ms/step - loss: 5.5098 - mae: 5.5098\n",
      "Epoch 29/100\n",
      "1/1 [==============================] - 0s 3ms/step - loss: 5.4905 - mae: 5.4905\n",
      "Epoch 30/100\n",
      "1/1 [==============================] - 0s 6ms/step - loss: 5.4222 - mae: 5.4222\n",
      "Epoch 31/100\n",
      "1/1 [==============================] - 0s 3ms/step - loss: 5.3090 - mae: 5.3090\n",
      "Epoch 32/100\n",
      "1/1 [==============================] - 0s 3ms/step - loss: 5.1545 - mae: 5.1545\n",
      "Epoch 33/100\n",
      "1/1 [==============================] - 0s 4ms/step - loss: 4.9623 - mae: 4.9623\n",
      "Epoch 34/100\n",
      "1/1 [==============================] - 0s 3ms/step - loss: 4.7609 - mae: 4.7609\n",
      "Epoch 35/100\n",
      "1/1 [==============================] - 0s 7ms/step - loss: 4.6596 - mae: 4.6596\n",
      "Epoch 36/100\n",
      "1/1 [==============================] - 0s 4ms/step - loss: 4.5508 - mae: 4.5508\n",
      "Epoch 37/100\n",
      "1/1 [==============================] - 0s 6ms/step - loss: 4.4345 - mae: 4.4345\n",
      "Epoch 38/100\n",
      "1/1 [==============================] - 0s 3ms/step - loss: 4.3994 - mae: 4.3994\n",
      "Epoch 39/100\n",
      "1/1 [==============================] - 0s 3ms/step - loss: 4.2395 - mae: 4.2395\n",
      "Epoch 40/100\n",
      "1/1 [==============================] - 0s 6ms/step - loss: 4.0130 - mae: 4.0130\n",
      "Epoch 41/100\n",
      "1/1 [==============================] - 0s 3ms/step - loss: 3.8493 - mae: 3.8493\n",
      "Epoch 42/100\n",
      "1/1 [==============================] - 0s 4ms/step - loss: 3.6785 - mae: 3.6785\n",
      "Epoch 43/100\n",
      "1/1 [==============================] - 0s 5ms/step - loss: 3.5872 - mae: 3.5872\n",
      "Epoch 44/100\n",
      "1/1 [==============================] - 0s 4ms/step - loss: 3.4588 - mae: 3.4588\n",
      "Epoch 45/100\n",
      "1/1 [==============================] - 0s 3ms/step - loss: 3.2703 - mae: 3.2703\n",
      "Epoch 46/100\n",
      "1/1 [==============================] - 0s 3ms/step - loss: 3.0251 - mae: 3.0251\n",
      "Epoch 47/100\n",
      "1/1 [==============================] - 0s 4ms/step - loss: 2.8092 - mae: 2.8092\n",
      "Epoch 48/100\n",
      "1/1 [==============================] - 0s 3ms/step - loss: 2.6320 - mae: 2.6320\n",
      "Epoch 49/100\n",
      "1/1 [==============================] - 0s 3ms/step - loss: 2.4354 - mae: 2.4354\n",
      "Epoch 50/100\n",
      "1/1 [==============================] - 0s 5ms/step - loss: 2.1960 - mae: 2.1960\n",
      "Epoch 51/100\n",
      "1/1 [==============================] - 0s 3ms/step - loss: 2.0096 - mae: 2.0096\n",
      "Epoch 52/100\n",
      "1/1 [==============================] - 0s 3ms/step - loss: 1.8163 - mae: 1.8163\n",
      "Epoch 53/100\n",
      "1/1 [==============================] - 0s 4ms/step - loss: 1.5512 - mae: 1.5512\n",
      "Epoch 54/100\n",
      "1/1 [==============================] - 0s 3ms/step - loss: 1.2601 - mae: 1.2601\n",
      "Epoch 55/100\n",
      "1/1 [==============================] - 0s 3ms/step - loss: 1.0805 - mae: 1.0805\n",
      "Epoch 56/100\n",
      "1/1 [==============================] - 0s 2ms/step - loss: 0.7699 - mae: 0.7699\n",
      "Epoch 57/100\n",
      "1/1 [==============================] - 0s 4ms/step - loss: 0.5746 - mae: 0.5746\n",
      "Epoch 58/100\n",
      "1/1 [==============================] - 0s 4ms/step - loss: 0.3676 - mae: 0.3676\n",
      "Epoch 59/100\n",
      "1/1 [==============================] - 0s 3ms/step - loss: 0.1608 - mae: 0.1608\n",
      "Epoch 60/100\n",
      "1/1 [==============================] - 0s 3ms/step - loss: 0.3269 - mae: 0.3269\n",
      "Epoch 61/100\n",
      "1/1 [==============================] - 0s 3ms/step - loss: 0.5807 - mae: 0.5807\n",
      "Epoch 62/100\n",
      "1/1 [==============================] - 0s 4ms/step - loss: 0.6395 - mae: 0.6395\n",
      "Epoch 63/100\n",
      "1/1 [==============================] - 0s 4ms/step - loss: 0.7340 - mae: 0.7340\n",
      "Epoch 64/100\n",
      "1/1 [==============================] - 0s 3ms/step - loss: 0.7572 - mae: 0.7572\n",
      "Epoch 65/100\n",
      "1/1 [==============================] - 0s 4ms/step - loss: 0.6796 - mae: 0.6796\n",
      "Epoch 66/100\n",
      "1/1 [==============================] - 0s 3ms/step - loss: 0.7583 - mae: 0.7583\n",
      "Epoch 67/100\n",
      "1/1 [==============================] - 0s 3ms/step - loss: 0.6431 - mae: 0.6431\n",
      "Epoch 68/100\n",
      "1/1 [==============================] - 0s 5ms/step - loss: 0.4662 - mae: 0.4662\n",
      "Epoch 69/100\n",
      "1/1 [==============================] - 0s 3ms/step - loss: 0.4313 - mae: 0.4313\n",
      "Epoch 70/100\n",
      "1/1 [==============================] - 0s 3ms/step - loss: 0.2074 - mae: 0.2074\n",
      "Epoch 71/100\n",
      "1/1 [==============================] - 0s 4ms/step - loss: 0.2871 - mae: 0.2871\n",
      "Epoch 72/100\n",
      "1/1 [==============================] - 0s 3ms/step - loss: 0.3174 - mae: 0.3174\n",
      "Epoch 73/100\n",
      "1/1 [==============================] - 0s 3ms/step - loss: 0.2684 - mae: 0.2684\n",
      "Epoch 74/100\n",
      "1/1 [==============================] - 0s 5ms/step - loss: 0.3793 - mae: 0.3793\n",
      "Epoch 75/100\n",
      "1/1 [==============================] - 0s 3ms/step - loss: 0.3181 - mae: 0.3181\n",
      "Epoch 76/100\n",
      "1/1 [==============================] - 0s 3ms/step - loss: 0.3525 - mae: 0.3525\n",
      "Epoch 77/100\n",
      "1/1 [==============================] - 0s 3ms/step - loss: 0.2795 - mae: 0.2795\n",
      "Epoch 78/100\n",
      "1/1 [==============================] - 0s 3ms/step - loss: 0.3046 - mae: 0.3046\n",
      "Epoch 79/100\n",
      "1/1 [==============================] - 0s 3ms/step - loss: 0.2050 - mae: 0.2050\n",
      "Epoch 80/100\n",
      "1/1 [==============================] - 0s 5ms/step - loss: 0.1240 - mae: 0.1240\n",
      "Epoch 81/100\n",
      "1/1 [==============================] - 0s 3ms/step - loss: 0.0807 - mae: 0.0807\n",
      "Epoch 82/100\n",
      "1/1 [==============================] - 0s 3ms/step - loss: 0.2218 - mae: 0.2218\n",
      "Epoch 83/100\n",
      "1/1 [==============================] - 0s 3ms/step - loss: 0.1975 - mae: 0.1975\n",
      "Epoch 84/100\n",
      "1/1 [==============================] - 0s 3ms/step - loss: 0.1831 - mae: 0.1831\n",
      "Epoch 85/100\n",
      "1/1 [==============================] - 0s 3ms/step - loss: 0.1845 - mae: 0.1845\n",
      "Epoch 86/100\n",
      "1/1 [==============================] - 0s 3ms/step - loss: 0.1459 - mae: 0.1459\n",
      "Epoch 87/100\n",
      "1/1 [==============================] - 0s 3ms/step - loss: 0.0232 - mae: 0.0232\n",
      "Epoch 88/100\n",
      "1/1 [==============================] - 0s 3ms/step - loss: 0.1032 - mae: 0.1032\n",
      "Epoch 89/100\n",
      "1/1 [==============================] - 0s 3ms/step - loss: 0.2061 - mae: 0.2061\n",
      "Epoch 90/100\n",
      "1/1 [==============================] - 0s 4ms/step - loss: 0.2006 - mae: 0.2006\n",
      "Epoch 91/100\n",
      "1/1 [==============================] - 0s 3ms/step - loss: 0.2698 - mae: 0.2698\n",
      "Epoch 92/100\n",
      "1/1 [==============================] - 0s 3ms/step - loss: 0.2019 - mae: 0.2019\n",
      "Epoch 93/100\n",
      "1/1 [==============================] - 0s 5ms/step - loss: 0.1862 - mae: 0.1862\n",
      "Epoch 94/100\n",
      "1/1 [==============================] - 0s 3ms/step - loss: 0.1885 - mae: 0.1885\n",
      "Epoch 95/100\n",
      "1/1 [==============================] - 0s 3ms/step - loss: 0.0843 - mae: 0.0843\n",
      "Epoch 96/100\n",
      "1/1 [==============================] - 0s 3ms/step - loss: 0.1063 - mae: 0.1063\n",
      "Epoch 97/100\n",
      "1/1 [==============================] - 0s 4ms/step - loss: 0.2097 - mae: 0.2097\n",
      "Epoch 98/100\n",
      "1/1 [==============================] - 0s 3ms/step - loss: 0.1345 - mae: 0.1345\n",
      "Epoch 99/100\n",
      "1/1 [==============================] - 0s 4ms/step - loss: 0.2393 - mae: 0.2393\n",
      "Epoch 100/100\n",
      "1/1 [==============================] - 0s 3ms/step - loss: 0.2427 - mae: 0.2427\n"
     ]
    },
    {
     "data": {
      "text/plain": [
       "<keras.callbacks.History at 0x7f7feb0827f0>"
      ]
     },
     "execution_count": 104,
     "metadata": {},
     "output_type": "execute_result"
    }
   ],
   "source": [
    "# Let's see if we can improve it even more\n",
    "\n",
    "# 1. Create the model (this time with an extra hidden layer)\n",
    "model = tf.keras.Sequential([\n",
    "  tf.keras.layers.Dense(50, activation=None),\n",
    "  tf.keras.layers.Dense(1)\n",
    "])\n",
    "\n",
    "# 2. Compile the model\n",
    "model.compile(loss=\"mae\",\n",
    "              optimizer=tf.keras.optimizers.Adam(lr=0.01),\n",
    "              metrics=[\"mae\"])\n",
    "\n",
    "# 3. Fit the model\n",
    "model.fit(tf.expand_dims(X, axis=-1), y, epochs=100) "
   ]
  },
  {
   "cell_type": "code",
   "execution_count": 106,
   "metadata": {},
   "outputs": [
    {
     "name": "stdout",
     "output_type": "stream",
     "text": [
      "1/1 [==============================] - 0s 45ms/step\n"
     ]
    },
    {
     "data": {
      "text/plain": [
       "array([[26.8855]], dtype=float32)"
      ]
     },
     "execution_count": 106,
     "metadata": {},
     "output_type": "execute_result"
    }
   ],
   "source": [
    "y_pred = model.predict([17.0])\n",
    "y_pred"
   ]
  },
  {
   "cell_type": "code",
   "execution_count": 196,
   "metadata": {},
   "outputs": [],
   "source": [
    "# Clear session for next example\n",
    "tf.keras.backend.clear_session()"
   ]
  },
  {
   "cell_type": "code",
   "execution_count": 197,
   "metadata": {},
   "outputs": [
    {
     "name": "stdout",
     "output_type": "stream",
     "text": [
      "Epoch 1/100\n"
     ]
    },
    {
     "name": "stderr",
     "output_type": "stream",
     "text": [
      "/usr/local/Caskroom/miniconda/base/envs/tensor/lib/python3.9/site-packages/keras/optimizers/optimizer_v2/adam.py:114: UserWarning: The `lr` argument is deprecated, use `learning_rate` instead.\n",
      "  super().__init__(name, **kwargs)\n"
     ]
    },
    {
     "name": "stdout",
     "output_type": "stream",
     "text": [
      "1/1 [==============================] - 0s 432ms/step - loss: 15.1478 - mae: 15.1478\n",
      "Epoch 2/100\n",
      "1/1 [==============================] - 0s 3ms/step - loss: 14.3604 - mae: 14.3604\n",
      "Epoch 3/100\n",
      "1/1 [==============================] - 0s 4ms/step - loss: 13.6517 - mae: 13.6517\n",
      "Epoch 4/100\n",
      "1/1 [==============================] - 0s 6ms/step - loss: 12.9525 - mae: 12.9525\n",
      "Epoch 5/100\n",
      "1/1 [==============================] - 0s 4ms/step - loss: 12.2583 - mae: 12.2583\n",
      "Epoch 6/100\n",
      "1/1 [==============================] - 0s 3ms/step - loss: 11.5666 - mae: 11.5666\n",
      "Epoch 7/100\n",
      "1/1 [==============================] - 0s 3ms/step - loss: 10.8755 - mae: 10.8755\n",
      "Epoch 8/100\n",
      "1/1 [==============================] - 0s 4ms/step - loss: 10.1832 - mae: 10.1832\n",
      "Epoch 9/100\n",
      "1/1 [==============================] - 0s 3ms/step - loss: 9.4873 - mae: 9.4873\n",
      "Epoch 10/100\n",
      "1/1 [==============================] - 0s 3ms/step - loss: 8.7855 - mae: 8.7855\n",
      "Epoch 11/100\n",
      "1/1 [==============================] - 0s 3ms/step - loss: 8.0751 - mae: 8.0751\n",
      "Epoch 12/100\n",
      "1/1 [==============================] - 0s 3ms/step - loss: 7.3534 - mae: 7.3534\n",
      "Epoch 13/100\n",
      "1/1 [==============================] - 0s 3ms/step - loss: 6.6178 - mae: 6.6178\n",
      "Epoch 14/100\n",
      "1/1 [==============================] - 0s 3ms/step - loss: 6.5420 - mae: 6.5420\n",
      "Epoch 15/100\n",
      "1/1 [==============================] - 0s 3ms/step - loss: 6.8288 - mae: 6.8288\n",
      "Epoch 16/100\n",
      "1/1 [==============================] - 0s 3ms/step - loss: 7.0177 - mae: 7.0177\n",
      "Epoch 17/100\n",
      "1/1 [==============================] - 0s 4ms/step - loss: 7.1403 - mae: 7.1403\n",
      "Epoch 18/100\n",
      "1/1 [==============================] - 0s 3ms/step - loss: 7.1714 - mae: 7.1714\n",
      "Epoch 19/100\n",
      "1/1 [==============================] - 0s 3ms/step - loss: 7.0434 - mae: 7.0434\n",
      "Epoch 20/100\n",
      "1/1 [==============================] - 0s 3ms/step - loss: 6.8386 - mae: 6.8386\n",
      "Epoch 21/100\n",
      "1/1 [==============================] - 0s 4ms/step - loss: 6.6421 - mae: 6.6421\n",
      "Epoch 22/100\n",
      "1/1 [==============================] - 0s 3ms/step - loss: 6.4232 - mae: 6.4232\n",
      "Epoch 23/100\n",
      "1/1 [==============================] - 0s 4ms/step - loss: 6.1862 - mae: 6.1862\n",
      "Epoch 24/100\n",
      "1/1 [==============================] - 0s 3ms/step - loss: 5.9525 - mae: 5.9525\n",
      "Epoch 25/100\n",
      "1/1 [==============================] - 0s 3ms/step - loss: 5.9044 - mae: 5.9044\n",
      "Epoch 26/100\n",
      "1/1 [==============================] - 0s 3ms/step - loss: 5.8519 - mae: 5.8519\n",
      "Epoch 27/100\n",
      "1/1 [==============================] - 0s 4ms/step - loss: 5.8870 - mae: 5.8870\n",
      "Epoch 28/100\n",
      "1/1 [==============================] - 0s 3ms/step - loss: 5.9000 - mae: 5.9000\n",
      "Epoch 29/100\n",
      "1/1 [==============================] - 0s 3ms/step - loss: 5.8219 - mae: 5.8219\n",
      "Epoch 30/100\n",
      "1/1 [==============================] - 0s 3ms/step - loss: 5.6630 - mae: 5.6630\n",
      "Epoch 31/100\n",
      "1/1 [==============================] - 0s 3ms/step - loss: 5.4652 - mae: 5.4652\n",
      "Epoch 32/100\n",
      "1/1 [==============================] - 0s 3ms/step - loss: 5.3652 - mae: 5.3652\n",
      "Epoch 33/100\n",
      "1/1 [==============================] - 0s 4ms/step - loss: 5.2616 - mae: 5.2616\n",
      "Epoch 34/100\n",
      "1/1 [==============================] - 0s 3ms/step - loss: 5.1541 - mae: 5.1541\n",
      "Epoch 35/100\n",
      "1/1 [==============================] - 0s 3ms/step - loss: 5.1133 - mae: 5.1133\n",
      "Epoch 36/100\n",
      "1/1 [==============================] - 0s 4ms/step - loss: 5.0629 - mae: 5.0629\n",
      "Epoch 37/100\n",
      "1/1 [==============================] - 0s 3ms/step - loss: 4.9703 - mae: 4.9703\n",
      "Epoch 38/100\n",
      "1/1 [==============================] - 0s 3ms/step - loss: 4.8386 - mae: 4.8386\n",
      "Epoch 39/100\n",
      "1/1 [==============================] - 0s 4ms/step - loss: 4.6707 - mae: 4.6707\n",
      "Epoch 40/100\n",
      "1/1 [==============================] - 0s 3ms/step - loss: 4.5249 - mae: 4.5249\n",
      "Epoch 41/100\n",
      "1/1 [==============================] - 0s 4ms/step - loss: 4.4179 - mae: 4.4179\n",
      "Epoch 42/100\n",
      "1/1 [==============================] - 0s 4ms/step - loss: 4.3034 - mae: 4.3034\n",
      "Epoch 43/100\n",
      "1/1 [==============================] - 0s 4ms/step - loss: 4.1812 - mae: 4.1812\n",
      "Epoch 44/100\n",
      "1/1 [==============================] - 0s 3ms/step - loss: 4.0830 - mae: 4.0830\n",
      "Epoch 45/100\n",
      "1/1 [==============================] - 0s 3ms/step - loss: 3.9050 - mae: 3.9050\n",
      "Epoch 46/100\n",
      "1/1 [==============================] - 0s 3ms/step - loss: 3.7514 - mae: 3.7514\n",
      "Epoch 47/100\n",
      "1/1 [==============================] - 0s 3ms/step - loss: 3.5902 - mae: 3.5902\n",
      "Epoch 48/100\n",
      "1/1 [==============================] - 0s 3ms/step - loss: 3.4210 - mae: 3.4210\n",
      "Epoch 49/100\n",
      "1/1 [==============================] - 0s 3ms/step - loss: 3.2438 - mae: 3.2438\n",
      "Epoch 50/100\n",
      "1/1 [==============================] - 0s 3ms/step - loss: 3.0581 - mae: 3.0581\n",
      "Epoch 51/100\n",
      "1/1 [==============================] - 0s 3ms/step - loss: 2.9294 - mae: 2.9294\n",
      "Epoch 52/100\n",
      "1/1 [==============================] - 0s 3ms/step - loss: 2.7419 - mae: 2.7419\n",
      "Epoch 53/100\n",
      "1/1 [==============================] - 0s 3ms/step - loss: 2.4937 - mae: 2.4937\n",
      "Epoch 54/100\n",
      "1/1 [==============================] - 0s 4ms/step - loss: 2.2875 - mae: 2.2875\n",
      "Epoch 55/100\n",
      "1/1 [==============================] - 0s 4ms/step - loss: 2.1440 - mae: 2.1440\n",
      "Epoch 56/100\n",
      "1/1 [==============================] - 0s 3ms/step - loss: 1.9123 - mae: 1.9123\n",
      "Epoch 57/100\n",
      "1/1 [==============================] - 0s 3ms/step - loss: 1.6124 - mae: 1.6124\n",
      "Epoch 58/100\n",
      "1/1 [==============================] - 0s 5ms/step - loss: 1.4391 - mae: 1.4391\n",
      "Epoch 59/100\n",
      "1/1 [==============================] - 0s 5ms/step - loss: 1.2329 - mae: 1.2329\n",
      "Epoch 60/100\n",
      "1/1 [==============================] - 0s 9ms/step - loss: 0.9507 - mae: 0.9507\n",
      "Epoch 61/100\n",
      "1/1 [==============================] - 0s 5ms/step - loss: 0.6068 - mae: 0.6068\n",
      "Epoch 62/100\n",
      "1/1 [==============================] - 0s 5ms/step - loss: 0.3885 - mae: 0.3885\n",
      "Epoch 63/100\n",
      "1/1 [==============================] - 0s 4ms/step - loss: 0.0954 - mae: 0.0954\n",
      "Epoch 64/100\n",
      "1/1 [==============================] - 0s 4ms/step - loss: 0.2933 - mae: 0.2933\n",
      "Epoch 65/100\n",
      "1/1 [==============================] - 0s 3ms/step - loss: 0.4633 - mae: 0.4633\n",
      "Epoch 66/100\n",
      "1/1 [==============================] - 0s 4ms/step - loss: 0.6439 - mae: 0.6439\n",
      "Epoch 67/100\n",
      "1/1 [==============================] - 0s 4ms/step - loss: 0.7554 - mae: 0.7554\n",
      "Epoch 68/100\n",
      "1/1 [==============================] - 0s 4ms/step - loss: 0.8172 - mae: 0.8172\n",
      "Epoch 69/100\n",
      "1/1 [==============================] - 0s 4ms/step - loss: 0.8061 - mae: 0.8061\n",
      "Epoch 70/100\n",
      "1/1 [==============================] - 0s 5ms/step - loss: 0.8135 - mae: 0.8135\n",
      "Epoch 71/100\n",
      "1/1 [==============================] - 0s 5ms/step - loss: 0.7132 - mae: 0.7132\n",
      "Epoch 72/100\n",
      "1/1 [==============================] - 0s 3ms/step - loss: 0.6971 - mae: 0.6971\n",
      "Epoch 73/100\n",
      "1/1 [==============================] - 0s 4ms/step - loss: 0.5341 - mae: 0.5341\n",
      "Epoch 74/100\n",
      "1/1 [==============================] - 0s 4ms/step - loss: 0.4521 - mae: 0.4521\n",
      "Epoch 75/100\n",
      "1/1 [==============================] - 0s 5ms/step - loss: 0.2960 - mae: 0.2960\n",
      "Epoch 76/100\n",
      "1/1 [==============================] - 0s 4ms/step - loss: 0.1360 - mae: 0.1360\n",
      "Epoch 77/100\n",
      "1/1 [==============================] - 0s 3ms/step - loss: 0.1177 - mae: 0.1177\n",
      "Epoch 78/100\n",
      "1/1 [==============================] - 0s 3ms/step - loss: 0.2854 - mae: 0.2854\n",
      "Epoch 79/100\n",
      "1/1 [==============================] - 0s 3ms/step - loss: 0.3172 - mae: 0.3172\n",
      "Epoch 80/100\n",
      "1/1 [==============================] - 0s 4ms/step - loss: 0.4087 - mae: 0.4087\n",
      "Epoch 81/100\n",
      "1/1 [==============================] - 0s 3ms/step - loss: 0.3608 - mae: 0.3608\n",
      "Epoch 82/100\n",
      "1/1 [==============================] - 0s 4ms/step - loss: 0.3973 - mae: 0.3973\n",
      "Epoch 83/100\n",
      "1/1 [==============================] - 0s 3ms/step - loss: 0.2966 - mae: 0.2966\n",
      "Epoch 84/100\n",
      "1/1 [==============================] - 0s 3ms/step - loss: 0.3170 - mae: 0.3170\n",
      "Epoch 85/100\n",
      "1/1 [==============================] - 0s 3ms/step - loss: 0.2195 - mae: 0.2195\n",
      "Epoch 86/100\n",
      "1/1 [==============================] - 0s 3ms/step - loss: 0.0581 - mae: 0.0581\n",
      "Epoch 87/100\n",
      "1/1 [==============================] - 0s 3ms/step - loss: 0.1568 - mae: 0.1568\n",
      "Epoch 88/100\n",
      "1/1 [==============================] - 0s 4ms/step - loss: 0.1952 - mae: 0.1952\n",
      "Epoch 89/100\n",
      "1/1 [==============================] - 0s 4ms/step - loss: 0.2625 - mae: 0.2625\n",
      "Epoch 90/100\n",
      "1/1 [==============================] - 0s 3ms/step - loss: 0.2486 - mae: 0.2486\n",
      "Epoch 91/100\n",
      "1/1 [==============================] - 0s 4ms/step - loss: 0.2283 - mae: 0.2283\n",
      "Epoch 92/100\n",
      "1/1 [==============================] - 0s 4ms/step - loss: 0.1633 - mae: 0.1633\n",
      "Epoch 93/100\n",
      "1/1 [==============================] - 0s 3ms/step - loss: 0.1642 - mae: 0.1642\n",
      "Epoch 94/100\n",
      "1/1 [==============================] - 0s 3ms/step - loss: 0.0741 - mae: 0.0741\n",
      "Epoch 95/100\n",
      "1/1 [==============================] - 0s 3ms/step - loss: 0.3112 - mae: 0.3112\n",
      "Epoch 96/100\n",
      "1/1 [==============================] - 0s 3ms/step - loss: 0.3926 - mae: 0.3926\n",
      "Epoch 97/100\n",
      "1/1 [==============================] - 0s 4ms/step - loss: 0.2869 - mae: 0.2869\n",
      "Epoch 98/100\n",
      "1/1 [==============================] - 0s 3ms/step - loss: 0.3097 - mae: 0.3097\n",
      "Epoch 99/100\n",
      "1/1 [==============================] - 0s 3ms/step - loss: 0.3566 - mae: 0.3566\n",
      "Epoch 100/100\n",
      "1/1 [==============================] - 0s 4ms/step - loss: 0.1618 - mae: 0.1618\n"
     ]
    },
    {
     "data": {
      "text/plain": [
       "<keras.callbacks.History at 0x7f7fd36da1c0>"
      ]
     },
     "execution_count": 197,
     "metadata": {},
     "output_type": "execute_result"
    }
   ],
   "source": [
    "# Let's see if we can improve it even more\n",
    "tf.random.set_seed(42)\n",
    "\n",
    "# 1. Create the model (this time with an extra hidden layer)\n",
    "model = tf.keras.Sequential([\n",
    "    tf.keras.layers.Dense(50, activation=None), \n",
    "  tf.keras.layers.Dense(1)\n",
    "])\n",
    "\n",
    "# 2. Compile the model\n",
    "model.compile(loss=\"mae\",\n",
    "              optimizer=tf.keras.optimizers.Adam(lr=0.01),\n",
    "              metrics=[\"mae\"])\n",
    "\n",
    "# 3. Fit the model\n",
    "model.fit(tf.expand_dims(X, axis=-1), y, epochs=100) "
   ]
  },
  {
   "cell_type": "code",
   "execution_count": 198,
   "metadata": {},
   "outputs": [
    {
     "data": {
      "text/plain": [
       "(<tf.Tensor: shape=(8,), dtype=float32, numpy=array([-7., -4., -1.,  2.,  5.,  8., 11., 14.], dtype=float32)>,\n",
       " <tf.Tensor: shape=(8,), dtype=float32, numpy=array([ 3.,  6.,  9., 12., 15., 18., 21., 24.], dtype=float32)>)"
      ]
     },
     "execution_count": 198,
     "metadata": {},
     "output_type": "execute_result"
    }
   ],
   "source": [
    "X, y"
   ]
  },
  {
   "cell_type": "code",
   "execution_count": 199,
   "metadata": {},
   "outputs": [
    {
     "name": "stdout",
     "output_type": "stream",
     "text": [
      "1/1 [==============================] - 0s 70ms/step\n"
     ]
    },
    {
     "data": {
      "text/plain": [
       "array([[26.38193]], dtype=float32)"
      ]
     },
     "execution_count": 199,
     "metadata": {},
     "output_type": "execute_result"
    }
   ],
   "source": [
    "y_pred = model.predict([17.0])\n",
    "y_pred"
   ]
  },
  {
   "cell_type": "code",
   "execution_count": 200,
   "metadata": {},
   "outputs": [
    {
     "name": "stdout",
     "output_type": "stream",
     "text": [
      "Epoch 1/100\n",
      "1/1 [==============================] - 0s 287ms/step - loss: 81.7680 - mae: 8.6377\n",
      "Epoch 2/100\n",
      "1/1 [==============================] - 0s 3ms/step - loss: 76.8287 - mae: 7.6361\n",
      "Epoch 3/100\n",
      "1/1 [==============================] - 0s 3ms/step - loss: 74.3266 - mae: 7.6832\n",
      "Epoch 4/100\n",
      "1/1 [==============================] - 0s 3ms/step - loss: 71.9891 - mae: 7.5290\n",
      "Epoch 5/100\n",
      "1/1 [==============================] - 0s 3ms/step - loss: 69.7283 - mae: 7.4161\n",
      "Epoch 6/100\n",
      "1/1 [==============================] - 0s 5ms/step - loss: 67.5386 - mae: 7.2975\n",
      "Epoch 7/100\n",
      "1/1 [==============================] - 0s 4ms/step - loss: 65.4177 - mae: 7.1823\n",
      "Epoch 8/100\n",
      "1/1 [==============================] - 0s 4ms/step - loss: 63.3633 - mae: 7.0686\n",
      "Epoch 9/100\n",
      "1/1 [==============================] - 0s 5ms/step - loss: 61.3735 - mae: 6.9567\n",
      "Epoch 10/100\n",
      "1/1 [==============================] - 0s 4ms/step - loss: 59.4462 - mae: 6.8466\n",
      "Epoch 11/100\n",
      "1/1 [==============================] - 0s 5ms/step - loss: 57.5794 - mae: 6.7382\n",
      "Epoch 12/100\n",
      "1/1 [==============================] - 0s 5ms/step - loss: 55.7712 - mae: 6.6316\n",
      "Epoch 13/100\n",
      "1/1 [==============================] - 0s 3ms/step - loss: 54.0198 - mae: 6.5266\n",
      "Epoch 14/100\n",
      "1/1 [==============================] - 0s 3ms/step - loss: 52.3234 - mae: 6.4233\n",
      "Epoch 15/100\n",
      "1/1 [==============================] - 0s 4ms/step - loss: 50.6803 - mae: 6.3217\n",
      "Epoch 16/100\n",
      "1/1 [==============================] - 0s 3ms/step - loss: 49.0888 - mae: 6.2216\n",
      "Epoch 17/100\n",
      "1/1 [==============================] - 0s 5ms/step - loss: 47.5472 - mae: 6.1231\n",
      "Epoch 18/100\n",
      "1/1 [==============================] - 0s 3ms/step - loss: 46.0541 - mae: 6.0262\n",
      "Epoch 19/100\n",
      "1/1 [==============================] - 0s 4ms/step - loss: 44.6079 - mae: 5.9309\n",
      "Epoch 20/100\n",
      "1/1 [==============================] - 0s 3ms/step - loss: 43.2070 - mae: 5.8370\n",
      "Epoch 21/100\n",
      "1/1 [==============================] - 0s 3ms/step - loss: 41.8502 - mae: 5.7446\n",
      "Epoch 22/100\n",
      "1/1 [==============================] - 0s 3ms/step - loss: 40.5360 - mae: 5.6537\n",
      "Epoch 23/100\n",
      "1/1 [==============================] - 0s 4ms/step - loss: 39.2630 - mae: 5.5642\n",
      "Epoch 24/100\n",
      "1/1 [==============================] - 0s 3ms/step - loss: 38.0300 - mae: 5.4761\n",
      "Epoch 25/100\n",
      "1/1 [==============================] - 0s 4ms/step - loss: 36.8358 - mae: 5.3895\n",
      "Epoch 26/100\n",
      "1/1 [==============================] - 0s 13ms/step - loss: 35.6790 - mae: 5.3042\n",
      "Epoch 27/100\n",
      "1/1 [==============================] - 0s 5ms/step - loss: 34.5586 - mae: 5.2202\n",
      "Epoch 28/100\n",
      "1/1 [==============================] - 0s 4ms/step - loss: 33.4733 - mae: 5.1376\n",
      "Epoch 29/100\n",
      "1/1 [==============================] - 0s 3ms/step - loss: 32.4221 - mae: 5.0563\n",
      "Epoch 30/100\n",
      "1/1 [==============================] - 0s 3ms/step - loss: 31.4040 - mae: 4.9763\n",
      "Epoch 31/100\n",
      "1/1 [==============================] - 0s 4ms/step - loss: 30.4178 - mae: 4.8975\n",
      "Epoch 32/100\n",
      "1/1 [==============================] - 0s 4ms/step - loss: 29.4626 - mae: 4.8200\n",
      "Epoch 33/100\n",
      "1/1 [==============================] - 0s 4ms/step - loss: 28.5374 - mae: 4.7437\n",
      "Epoch 34/100\n",
      "1/1 [==============================] - 0s 3ms/step - loss: 27.6412 - mae: 4.6686\n",
      "Epoch 35/100\n",
      "1/1 [==============================] - 0s 3ms/step - loss: 26.7732 - mae: 4.5947\n",
      "Epoch 36/100\n",
      "1/1 [==============================] - 0s 4ms/step - loss: 25.9324 - mae: 4.5220\n",
      "Epoch 37/100\n",
      "1/1 [==============================] - 0s 3ms/step - loss: 25.1180 - mae: 4.4505\n",
      "Epoch 38/100\n",
      "1/1 [==============================] - 0s 3ms/step - loss: 24.3292 - mae: 4.3800\n",
      "Epoch 39/100\n",
      "1/1 [==============================] - 0s 4ms/step - loss: 23.5652 - mae: 4.3107\n",
      "Epoch 40/100\n",
      "1/1 [==============================] - 0s 4ms/step - loss: 22.8252 - mae: 4.2425\n",
      "Epoch 41/100\n",
      "1/1 [==============================] - 0s 4ms/step - loss: 22.1084 - mae: 4.1753\n",
      "Epoch 42/100\n",
      "1/1 [==============================] - 0s 3ms/step - loss: 21.4142 - mae: 4.1092\n",
      "Epoch 43/100\n",
      "1/1 [==============================] - 0s 4ms/step - loss: 20.7417 - mae: 4.0442\n",
      "Epoch 44/100\n",
      "1/1 [==============================] - 0s 3ms/step - loss: 20.0903 - mae: 3.9802\n",
      "Epoch 45/100\n",
      "1/1 [==============================] - 0s 3ms/step - loss: 19.4594 - mae: 3.9172\n",
      "Epoch 46/100\n",
      "1/1 [==============================] - 0s 3ms/step - loss: 18.8483 - mae: 3.8552\n",
      "Epoch 47/100\n",
      "1/1 [==============================] - 0s 3ms/step - loss: 18.2564 - mae: 3.7942\n",
      "Epoch 48/100\n",
      "1/1 [==============================] - 0s 3ms/step - loss: 17.6831 - mae: 3.7341\n",
      "Epoch 49/100\n",
      "1/1 [==============================] - 0s 4ms/step - loss: 17.1278 - mae: 3.6750\n",
      "Epoch 50/100\n",
      "1/1 [==============================] - 0s 2ms/step - loss: 16.5899 - mae: 3.6169\n",
      "Epoch 51/100\n",
      "1/1 [==============================] - 0s 3ms/step - loss: 16.0690 - mae: 3.5596\n",
      "Epoch 52/100\n",
      "1/1 [==============================] - 0s 4ms/step - loss: 15.5644 - mae: 3.5033\n",
      "Epoch 53/100\n",
      "1/1 [==============================] - 0s 3ms/step - loss: 15.0756 - mae: 3.4479\n",
      "Epoch 54/100\n",
      "1/1 [==============================] - 0s 3ms/step - loss: 14.6022 - mae: 3.3933\n",
      "Epoch 55/100\n",
      "1/1 [==============================] - 0s 3ms/step - loss: 14.1436 - mae: 3.3396\n",
      "Epoch 56/100\n",
      "1/1 [==============================] - 0s 3ms/step - loss: 13.6995 - mae: 3.2867\n",
      "Epoch 57/100\n",
      "1/1 [==============================] - 0s 3ms/step - loss: 13.2692 - mae: 3.2347\n",
      "Epoch 58/100\n",
      "1/1 [==============================] - 0s 3ms/step - loss: 12.8526 - mae: 3.1835\n",
      "Epoch 59/100\n",
      "1/1 [==============================] - 0s 3ms/step - loss: 12.4489 - mae: 3.1331\n",
      "Epoch 60/100\n",
      "1/1 [==============================] - 0s 3ms/step - loss: 12.0580 - mae: 3.0835\n",
      "Epoch 61/100\n",
      "1/1 [==============================] - 0s 104ms/step - loss: 11.6793 - mae: 3.0347\n",
      "Epoch 62/100\n",
      "1/1 [==============================] - 0s 21ms/step - loss: 11.3126 - mae: 2.9867\n",
      "Epoch 63/100\n",
      "1/1 [==============================] - 0s 8ms/step - loss: 10.9573 - mae: 2.9394\n",
      "Epoch 64/100\n",
      "1/1 [==============================] - 0s 5ms/step - loss: 10.6132 - mae: 2.8929\n",
      "Epoch 65/100\n",
      "1/1 [==============================] - 0s 3ms/step - loss: 10.2799 - mae: 2.8471\n",
      "Epoch 66/100\n",
      "1/1 [==============================] - 0s 3ms/step - loss: 9.9571 - mae: 2.8021\n",
      "Epoch 67/100\n",
      "1/1 [==============================] - 0s 5ms/step - loss: 9.6444 - mae: 2.7577\n",
      "Epoch 68/100\n",
      "1/1 [==============================] - 0s 3ms/step - loss: 9.3416 - mae: 2.7141\n",
      "Epoch 69/100\n",
      "1/1 [==============================] - 0s 6ms/step - loss: 9.0482 - mae: 2.6711\n",
      "Epoch 70/100\n",
      "1/1 [==============================] - 0s 4ms/step - loss: 8.7641 - mae: 2.6288\n",
      "Epoch 71/100\n",
      "1/1 [==============================] - 0s 6ms/step - loss: 8.4888 - mae: 2.5872\n",
      "Epoch 72/100\n",
      "1/1 [==============================] - 0s 4ms/step - loss: 8.2223 - mae: 2.5463\n",
      "Epoch 73/100\n",
      "1/1 [==============================] - 0s 6ms/step - loss: 7.9641 - mae: 2.5060\n",
      "Epoch 74/100\n",
      "1/1 [==============================] - 0s 4ms/step - loss: 7.7140 - mae: 2.4663\n",
      "Epoch 75/100\n",
      "1/1 [==============================] - 0s 4ms/step - loss: 7.4717 - mae: 2.4273\n",
      "Epoch 76/100\n",
      "1/1 [==============================] - 0s 4ms/step - loss: 7.2371 - mae: 2.3889\n",
      "Epoch 77/100\n",
      "1/1 [==============================] - 0s 5ms/step - loss: 7.0098 - mae: 2.3511\n",
      "Epoch 78/100\n",
      "1/1 [==============================] - 0s 4ms/step - loss: 6.7897 - mae: 2.3139\n",
      "Epoch 79/100\n",
      "1/1 [==============================] - 0s 7ms/step - loss: 6.5765 - mae: 2.2772\n",
      "Epoch 80/100\n",
      "1/1 [==============================] - 0s 4ms/step - loss: 6.3699 - mae: 2.2412\n",
      "Epoch 81/100\n",
      "1/1 [==============================] - 0s 7ms/step - loss: 6.1699 - mae: 2.2057\n",
      "Epoch 82/100\n",
      "1/1 [==============================] - 0s 3ms/step - loss: 5.9762 - mae: 2.1708\n",
      "Epoch 83/100\n",
      "1/1 [==============================] - 0s 6ms/step - loss: 5.7885 - mae: 2.1365\n",
      "Epoch 84/100\n",
      "1/1 [==============================] - 0s 5ms/step - loss: 5.6067 - mae: 2.1026\n",
      "Epoch 85/100\n",
      "1/1 [==============================] - 0s 3ms/step - loss: 5.4306 - mae: 2.0694\n",
      "Epoch 86/100\n",
      "1/1 [==============================] - 0s 3ms/step - loss: 5.2601 - mae: 2.0366\n",
      "Epoch 87/100\n",
      "1/1 [==============================] - 0s 3ms/step - loss: 5.0949 - mae: 2.0044\n",
      "Epoch 88/100\n",
      "1/1 [==============================] - 0s 4ms/step - loss: 4.9349 - mae: 1.9727\n",
      "Epoch 89/100\n",
      "1/1 [==============================] - 0s 5ms/step - loss: 4.7799 - mae: 1.9414\n",
      "Epoch 90/100\n",
      "1/1 [==============================] - 0s 5ms/step - loss: 4.6298 - mae: 1.9107\n",
      "Epoch 91/100\n",
      "1/1 [==============================] - 0s 7ms/step - loss: 4.4844 - mae: 1.8805\n",
      "Epoch 92/100\n",
      "1/1 [==============================] - 0s 3ms/step - loss: 4.3436 - mae: 1.8507\n",
      "Epoch 93/100\n",
      "1/1 [==============================] - 0s 4ms/step - loss: 4.2072 - mae: 1.8214\n",
      "Epoch 94/100\n",
      "1/1 [==============================] - 0s 4ms/step - loss: 4.0751 - mae: 1.7926\n",
      "Epoch 95/100\n",
      "1/1 [==============================] - 0s 7ms/step - loss: 3.9471 - mae: 1.7642\n",
      "Epoch 96/100\n",
      "1/1 [==============================] - 0s 3ms/step - loss: 3.8232 - mae: 1.7363\n",
      "Epoch 97/100\n",
      "1/1 [==============================] - 0s 3ms/step - loss: 3.7031 - mae: 1.7088\n",
      "Epoch 98/100\n",
      "1/1 [==============================] - 0s 3ms/step - loss: 3.5868 - mae: 1.6818\n",
      "Epoch 99/100\n",
      "1/1 [==============================] - 0s 4ms/step - loss: 3.4742 - mae: 1.6552\n",
      "Epoch 100/100\n",
      "1/1 [==============================] - 0s 6ms/step - loss: 3.3651 - mae: 1.6290\n"
     ]
    },
    {
     "data": {
      "text/plain": [
       "<keras.callbacks.History at 0x7f7fea2f3880>"
      ]
     },
     "execution_count": 200,
     "metadata": {},
     "output_type": "execute_result"
    }
   ],
   "source": [
    "# Best model so far\n",
    "tf.keras.backend.clear_session()\n",
    "\n",
    "# Let's see if we can improve it even more\n",
    "tf.random.set_seed(42)\n",
    "\n",
    "# 1. Create the model (this time with an extra hidden layer)\n",
    "model = tf.keras.Sequential([\n",
    "  tf.keras.layers.Dense(1)\n",
    "])\n",
    "\n",
    "# 2. Compile the model\n",
    "model.compile(loss=\"mse\",\n",
    "              optimizer=tf.keras.optimizers.SGD(),\n",
    "              metrics=[\"mae\"])\n",
    "\n",
    "# 3. Fit the model\n",
    "model.fit(tf.expand_dims(X, axis=-1), y, epochs=100) \n"
   ]
  },
  {
   "cell_type": "code",
   "execution_count": 202,
   "metadata": {},
   "outputs": [
    {
     "name": "stdout",
     "output_type": "stream",
     "text": [
      "1/1 [==============================] - 0s 63ms/step\n"
     ]
    },
    {
     "data": {
      "text/plain": [
       "array([[27.027308]], dtype=float32)"
      ]
     },
     "execution_count": 202,
     "metadata": {},
     "output_type": "execute_result"
    }
   ],
   "source": [
    "y_pred = model.predict([17.0])\n",
    "y_pred"
   ]
  },
  {
   "cell_type": "code",
   "execution_count": 203,
   "metadata": {},
   "outputs": [
    {
     "data": {
      "text/plain": [
       "(<tf.Tensor: shape=(3,), dtype=string, numpy=array([b'bedroom', b'bathroom', b'garage'], dtype=object)>,\n",
       " <tf.Tensor: shape=(1,), dtype=int32, numpy=array([939700], dtype=int32)>)"
      ]
     },
     "execution_count": 203,
     "metadata": {},
     "output_type": "execute_result"
    }
   ],
   "source": [
    "# Create a demo tensor for our housing prediction model\n",
    "house_info = tf.constant([\"bedroom\", \"bathroom\", \"garage\"])\n",
    "house_price = tf.constant([939700,])\n",
    "house_info, house_price"
   ]
  },
  {
   "cell_type": "markdown",
   "metadata": {},
   "source": [
    "## Evaluating a model\n",
    "\n",
    "In practice, a typical workflow you go through is:\n",
    "``` \n",
    "Build model -> Fit -> Evaluate -> Build model -> Fit -> Evaluate -> Build model -> Fit -> Evaluate\n",
    "```"
   ]
  },
  {
   "cell_type": "markdown",
   "metadata": {},
   "source": [
    "When it comes to evaluation, there are 3 words you should memorize:\n",
    "> \"Visualize, Visualize, Visualize\"\n",
    "\n",
    "It's a good idea to visualize:\n",
    "* The data\n",
    "* The model\n",
    "* The training of the model\n",
    "* The prediction of the model"
   ]
  },
  {
   "cell_type": "code",
   "execution_count": 204,
   "metadata": {},
   "outputs": [
    {
     "data": {
      "text/plain": [
       "<tf.Tensor: shape=(50,), dtype=int32, numpy=\n",
       "array([-100,  -96,  -92,  -88,  -84,  -80,  -76,  -72,  -68,  -64,  -60,\n",
       "        -56,  -52,  -48,  -44,  -40,  -36,  -32,  -28,  -24,  -20,  -16,\n",
       "        -12,   -8,   -4,    0,    4,    8,   12,   16,   20,   24,   28,\n",
       "         32,   36,   40,   44,   48,   52,   56,   60,   64,   68,   72,\n",
       "         76,   80,   84,   88,   92,   96], dtype=int32)>"
      ]
     },
     "execution_count": 204,
     "metadata": {},
     "output_type": "execute_result"
    }
   ],
   "source": [
    "# Make a bigger dataset\n",
    "X = tf.range(-100, 100, 4)\n",
    "X"
   ]
  },
  {
   "cell_type": "code",
   "execution_count": 205,
   "metadata": {},
   "outputs": [
    {
     "data": {
      "text/plain": [
       "<tf.Tensor: shape=(50,), dtype=int32, numpy=\n",
       "array([-90, -86, -82, -78, -74, -70, -66, -62, -58, -54, -50, -46, -42,\n",
       "       -38, -34, -30, -26, -22, -18, -14, -10,  -6,  -2,   2,   6,  10,\n",
       "        14,  18,  22,  26,  30,  34,  38,  42,  46,  50,  54,  58,  62,\n",
       "        66,  70,  74,  78,  82,  86,  90,  94,  98, 102, 106], dtype=int32)>"
      ]
     },
     "execution_count": 205,
     "metadata": {},
     "output_type": "execute_result"
    }
   ],
   "source": [
    "# Make labels for the dataset\n",
    "y = X + 10\n",
    "y"
   ]
  },
  {
   "cell_type": "markdown",
   "metadata": {},
   "source": [
    "### The three sets\n",
    "\n",
    "* Training set - model learns from this data, typically 70-80% of data\n",
    "* Validation set - model tunes from this data, typically remaining 10%-15% data\n",
    "* Test Set - model gets evaluated from this data, typically 10% - 15% data\n"
   ]
  },
  {
   "cell_type": "code",
   "execution_count": 212,
   "metadata": {},
   "outputs": [
    {
     "data": {
      "text/plain": [
       "(50, 50)"
      ]
     },
     "execution_count": 212,
     "metadata": {},
     "output_type": "execute_result"
    }
   ],
   "source": [
    "# Check sample length\n",
    "len(X), len(y)"
   ]
  },
  {
   "cell_type": "code",
   "execution_count": 213,
   "metadata": {},
   "outputs": [
    {
     "data": {
      "text/plain": [
       "(<tf.Tensor: shape=(40,), dtype=int32, numpy=\n",
       " array([-100,  -96,  -92,  -88,  -84,  -80,  -76,  -72,  -68,  -64,  -60,\n",
       "         -56,  -52,  -48,  -44,  -40,  -36,  -32,  -28,  -24,  -20,  -16,\n",
       "         -12,   -8,   -4,    0,    4,    8,   12,   16,   20,   24,   28,\n",
       "          32,   36,   40,   44,   48,   52,   56], dtype=int32)>,\n",
       " <tf.Tensor: shape=(10,), dtype=int32, numpy=array([60, 64, 68, 72, 76, 80, 84, 88, 92, 96], dtype=int32)>,\n",
       " <tf.Tensor: shape=(40,), dtype=int32, numpy=\n",
       " array([-90, -86, -82, -78, -74, -70, -66, -62, -58, -54, -50, -46, -42,\n",
       "        -38, -34, -30, -26, -22, -18, -14, -10,  -6,  -2,   2,   6,  10,\n",
       "         14,  18,  22,  26,  30,  34,  38,  42,  46,  50,  54,  58,  62,\n",
       "         66], dtype=int32)>,\n",
       " <tf.Tensor: shape=(10,), dtype=int32, numpy=array([ 70,  74,  78,  82,  86,  90,  94,  98, 102, 106], dtype=int32)>)"
      ]
     },
     "execution_count": 213,
     "metadata": {},
     "output_type": "execute_result"
    }
   ],
   "source": [
    "# Spilt the data into training and test sets\n",
    "SPILT = 0.8\n",
    "\n",
    "# Features training & testing (X)\n",
    "X_train = X[:int(SPILT * len(X))]\n",
    "X_test = X[int(SPILT * len(X)):]\n",
    "\n",
    "# Labels training & testing (y)\n",
    "y_train = y[:int(SPILT * len(y))]\n",
    "y_test = y[int(SPILT * len(y)):]\n",
    "\n",
    "# Show output\n",
    "X_train, X_test, y_train, y_test"
   ]
  },
  {
   "cell_type": "code",
   "execution_count": null,
   "metadata": {},
   "outputs": [],
   "source": []
  }
 ],
 "metadata": {
  "kernelspec": {
   "display_name": "tensor",
   "language": "python",
   "name": "python3"
  },
  "language_info": {
   "codemirror_mode": {
    "name": "ipython",
    "version": 3
   },
   "file_extension": ".py",
   "mimetype": "text/x-python",
   "name": "python",
   "nbconvert_exporter": "python",
   "pygments_lexer": "ipython3",
   "version": "3.9.18"
  }
 },
 "nbformat": 4,
 "nbformat_minor": 2
}
